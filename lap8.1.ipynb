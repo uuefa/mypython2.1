{
 "cells": [
  {
   "cell_type": "code",
   "execution_count": null,
   "metadata": {},
   "outputs": [],
   "source": [
    "def c_s(e_n, m_s, o_h): if o_h > 40: o_p = 40 * 100 + (o_h - 40) * 150 else: o_p = o_h * 100 t_s = m_s + o_p print(f\"ชื่อพนักงาน {e_n}\") print(f\"เงินเดือน {m_s:.2f}\") print(f\"ชั่วโมงล่วงเวลา {o_h:d}\") print(f\"ค่าล่วงเวลา {o_p:.2f}\") print(f\"รวมเป็นเงินเดือนทั้งสิน {t_s:.2f}\") e_n = input(\"กรุณาใส่ชื่อพนักงาน: \") m_s = float(input(\"กรุณาใส่เงินเดือน: \")) o_h = int(input(\"กรุณาใส่จำนวนชั่วโมงล่วงเวลา: \")) c_s(e_n, m_s, o_h)"
   ]
  }
 ],
 "metadata": {
  "language_info": {
   "name": "python"
  }
 },
 "nbformat": 4,
 "nbformat_minor": 2
}
